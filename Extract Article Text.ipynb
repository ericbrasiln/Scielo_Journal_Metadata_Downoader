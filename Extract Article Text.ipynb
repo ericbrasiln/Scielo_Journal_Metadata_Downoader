{
 "cells": [
  {
   "cell_type": "markdown",
   "metadata": {},
   "source": [
    "# Extract Article Text\n",
    "\n",
    "This notebook presents the simple process of saving the separate the text of the journal articles from the metadata. "
   ]
  },
  {
   "cell_type": "code",
   "execution_count": 15,
   "metadata": {},
   "outputs": [],
   "source": [
    "from bs4 import BeautifulSoup\n",
    "import bs4, os"
   ]
  },
  {
   "cell_type": "code",
   "execution_count": 17,
   "metadata": {},
   "outputs": [],
   "source": [
    "# Extract text from articles \n",
    "\n",
    "\n",
    "# Directory in which txt files will be saved \n",
    "root = \"C:/Users/Usuario/Documents/Profile_articles.txt/\"\n",
    "# Directory in wich xml journal articles are stored \n",
    "xmlroot = \"C:/Users/Usuario/Documents/Profile - XML Articles\"\n",
    "\n",
    "with os.scandir(xmlroot) as entries:\n",
    "    for entry in entries:\n",
    "        name = entry.name\n",
    "        name = name.replace('.xml', '.txt')\n",
    "        with open(entry, \"r\", encoding=\"ISO-8859-1\") as file:\n",
    "            soup = BeautifulSoup(file, \"lxml\")\n",
    "            elementos = soup.find(\"body\").find_all(\"p\")\n",
    "            text = []\n",
    "            for elem in elementos:\n",
    "                text.append(elem.text)\n",
    "                with open(root + name, \"w\", encoding=\"utf-8\") as f:\n",
    "                    f.write(\"\\n\".join(text))\n",
    "             "
   ]
  },
  {
   "cell_type": "code",
   "execution_count": null,
   "metadata": {},
   "outputs": [],
   "source": []
  }
 ],
 "metadata": {
  "kernelspec": {
   "display_name": "Python 3",
   "language": "python",
   "name": "python3"
  },
  "language_info": {
   "codemirror_mode": {
    "name": "ipython",
    "version": 3
   },
   "file_extension": ".py",
   "mimetype": "text/x-python",
   "name": "python",
   "nbconvert_exporter": "python",
   "pygments_lexer": "ipython3",
   "version": "3.7.4"
  }
 },
 "nbformat": 4,
 "nbformat_minor": 2
}
